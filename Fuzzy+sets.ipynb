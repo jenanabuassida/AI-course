{
 "cells": [
  {
   "cell_type": "markdown",
   "metadata": {},
   "source": [
    "# Fuzzy sets :"
   ]
  },
  {
   "cell_type": "code",
   "execution_count": 217,
   "metadata": {},
   "outputs": [],
   "source": [
    "import numpy as np\n",
    "import matplotlib.pyplot as plt"
   ]
  },
  {
   "cell_type": "code",
   "execution_count": 218,
   "metadata": {
    "collapsed": true
   },
   "outputs": [],
   "source": [
    "%matplotlib inline"
   ]
  },
  {
   "cell_type": "code",
   "execution_count": 219,
   "metadata": {},
   "outputs": [],
   "source": [
    "def trapezoid(x,a,b,c,d):\n",
    "    if (x <=a ):\n",
    "        m=0\n",
    "    elif (x> a and x<b):\n",
    "        m=(x-a)/(b-a)\n",
    "       \n",
    "    elif (x>= b and x<=c):\n",
    "        m=1\n",
    "    elif (x>c and x<d):\n",
    "        m=(d-x)/(d-c)\n",
    "    elif(x>=d):\n",
    "        m=0\n",
    "        \n",
    "    return m"
   ]
  },
  {
   "cell_type": "markdown",
   "metadata": {},
   "source": [
    "* Create a function to calculate the membership of a person for the short set or  tall set "
   ]
  },
  {
   "cell_type": "code",
   "execution_count": 222,
   "metadata": {
    "collapsed": true
   },
   "outputs": [],
   "source": [
    "def triangle(x,a,b,c):\n",
    "    if(x <= a):\n",
    "        m=0\n",
    "    elif(x>=a and x<=b):\n",
    "        m=(x-a)/(b-a)\n",
    "    elif(x>=b and x<=c):\n",
    "        m=(c-x)/(c-b)\n",
    "    elif(x>=c):\n",
    "        m=0\n",
    "    return m  "
   ]
  },
  {
   "cell_type": "markdown",
   "metadata": {},
   "source": [
    "* Create a function to calculate the membership of a person for the average set. "
   ]
  },
  {
   "cell_type": "code",
   "execution_count": 223,
   "metadata": {},
   "outputs": [],
   "source": [
    "hieght=[i for i in range(150, 211)]"
   ]
  },
  {
   "cell_type": "markdown",
   "metadata": {},
   "source": [
    "* create list of lengths"
   ]
  },
  {
   "cell_type": "code",
   "execution_count": 230,
   "metadata": {},
   "outputs": [],
   "source": [
    "yshort=[]\n",
    "for x in hieght:\n",
    "       yshort.append(trapezoid(x,140,150,160,170))"
   ]
  },
  {
   "cell_type": "markdown",
   "metadata": {},
   "source": [
    "* calculate membership for short set for people whose length ranges between 150 and 170"
   ]
  },
  {
   "cell_type": "code",
   "execution_count": 231,
   "metadata": {},
   "outputs": [],
   "source": [
    "yaverage=[]\n",
    "for x in hieght:\n",
    "       yaverage.append(triangle(x,165,175,185))"
   ]
  },
  {
   "cell_type": "markdown",
   "metadata": {},
   "source": [
    "*calculate membership for average set for people whose length ranges between 165 and 185"
   ]
  },
  {
   "cell_type": "code",
   "execution_count": 235,
   "metadata": {},
   "outputs": [],
   "source": [
    "ytall=[]\n",
    "for x in hieght:\n",
    "    ytall.append(trapezoid(x,180,190,210,220))"
   ]
  },
  {
   "cell_type": "markdown",
   "metadata": {},
   "source": [
    "* calculate membership for tall set for people whose length ranges between 180 and 210"
   ]
  },
  {
   "cell_type": "code",
   "execution_count": 236,
   "metadata": {},
   "outputs": [
    {
     "data": {
      "text/plain": [
       "<function matplotlib.pyplot.show>"
      ]
     },
     "execution_count": 236,
     "metadata": {},
     "output_type": "execute_result"
    },
    {
     "data": {
      "image/png": "[encoded data removed]",
      "text/plain": [
       "<matplotlib.figure.Figure at 0x24931cffda0>"
      ]
     },
     "metadata": {},
     "output_type": "display_data"
    }
   ],
   "source": [
    "_=plt.plot(hieght,yshort,color='blue')\n",
    "_=plt.plot(hieght,yaverage,color='red')\n",
    "_=plt.plot(hieght,ytall,color='green')\n",
    "\n",
    "_ = plt.legend(('Short', 'Average', 'Tall'), loc='lower right')\n",
    "_=plt.xlabel('Height')\n",
    "_=plt.ylabel('Membership Function')\n",
    "\n",
    "plt.show"
   ]
  },
  {
   "cell_type": "markdown",
   "metadata": {},
   "source": [
    "* create plo gragh for show the relationship between the Height and membership function."
   ]
  },
  {
   "cell_type": "code",
   "execution_count": null,
   "metadata": {
    "collapsed": true
   },
   "outputs": [],
   "source": []
  }
 ],
 "metadata": {
  "kernelspec": {
   "display_name": "Python 3",
   "language": "python",
   "name": "python3"
  },
  "language_info": {
   "codemirror_mode": {
    "name": "ipython",
    "version": 3
   },
   "file_extension": ".py",
   "mimetype": "text/x-python",
   "name": "python",
   "nbconvert_exporter": "python",
   "pygments_lexer": "ipython3",
   "version": "3.6.1"
  }
 },
 "nbformat": 4,
 "nbformat_minor": 2
}
