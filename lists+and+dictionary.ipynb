{
 "cells": [
  {
   "cell_type": "code",
   "execution_count": 1,
   "metadata": {
    "collapsed": true
   },
   "outputs": [],
   "source": [
    "capitals={'Palestine':'Jarusalem','Italy':'Roma','Egypt':'Cairo','France':'Paris','Iraq':'Bagdad','lebanon':'Birut','Al-jazar':'Al-jazar','USA':'Washenton','Jordan':'Aman','Tylind':'Bankok'}"
   ]
  },
  {
   "cell_type": "code",
   "execution_count": 3,
   "metadata": {},
   "outputs": [
    {
     "data": {
      "text/plain": [
       "'Jarusalem'"
      ]
     },
     "execution_count": 3,
     "metadata": {},
     "output_type": "execute_result"
    }
   ],
   "source": [
    "capitals['Palestine']"
   ]
  },
  {
   "cell_type": "code",
   "execution_count": 5,
   "metadata": {
    "collapsed": true
   },
   "outputs": [],
   "source": [
    "capitals_bycapital = {capitals[key]: key for key in capitals}"
   ]
  },
  {
   "cell_type": "code",
   "execution_count": 6,
   "metadata": {},
   "outputs": [
    {
     "data": {
      "text/plain": [
       "{'Al-jazar': 'Al-jazar',\n",
       " 'Aman': 'Jordan',\n",
       " 'Bagdad': 'Iraq',\n",
       " 'Bankok': 'Tylind',\n",
       " 'Birut': 'lebanon',\n",
       " 'Cairo': 'Egypt',\n",
       " 'Jarusalem': 'Palestine',\n",
       " 'Paris': 'France',\n",
       " 'Roma': 'Italy',\n",
       " 'Washenton': 'USA'}"
      ]
     },
     "execution_count": 6,
     "metadata": {},
     "output_type": "execute_result"
    }
   ],
   "source": [
    "capitals_bycapital"
   ]
  },
  {
   "cell_type": "code",
   "execution_count": 7,
   "metadata": {
    "collapsed": true
   },
   "outputs": [],
   "source": [
    "capitals=['Palestine ','Italy ','Egypt','France ','Iraq ','lebanon ','Al-jazar ','USA ','Jordan','Tylind ']\n",
    "capitals1=['Jarusalem','Roma','Cairo','Paris','Bagdad','Birut','Al-jazar','Washenton','Aman','Bankok']"
   ]
  },
  {
   "cell_type": "code",
   "execution_count": 8,
   "metadata": {},
   "outputs": [
    {
     "name": "stdout",
     "output_type": "stream",
     "text": [
      "['Palestine ', 'Italy ', 'Egypt', 'France ', 'Iraq ', 'lebanon ', 'Al-jazar ', 'USA ', 'Jordan', 'Tylind ']\n"
     ]
    }
   ],
   "source": [
    "print(capitals)"
   ]
  },
  {
   "cell_type": "code",
   "execution_count": 9,
   "metadata": {},
   "outputs": [
    {
     "name": "stdout",
     "output_type": "stream",
     "text": [
      "['Jarusalem', 'Italy ', 'Egypt', 'France ', 'Iraq ', 'lebanon ', 'Al-jazar ', 'USA ', 'Jordan', 'Tylind ']\n"
     ]
    }
   ],
   "source": [
    "for i in range(1):\n",
    "    capitals[i] = capitals1[i]\n",
    "    print(capitals)"
   ]
  },
  {
   "cell_type": "code",
   "execution_count": null,
   "metadata": {},
   "outputs": [],
   "source": []
  },
  {
   "cell_type": "code",
   "execution_count": null,
   "metadata": {
    "collapsed": true
   },
   "outputs": [],
   "source": []
  }
 ],
 "metadata": {
  "kernelspec": {
   "display_name": "Python 3",
   "language": "python",
   "name": "python3"
  },
  "language_info": {
   "codemirror_mode": {
    "name": "ipython",
    "version": 3
   },
   "file_extension": ".py",
   "mimetype": "text/x-python",
   "name": "python",
   "nbconvert_exporter": "python",
   "pygments_lexer": "ipython3",
   "version": "3.6.1"
  }
 },
 "nbformat": 4,
 "nbformat_minor": 2
}
